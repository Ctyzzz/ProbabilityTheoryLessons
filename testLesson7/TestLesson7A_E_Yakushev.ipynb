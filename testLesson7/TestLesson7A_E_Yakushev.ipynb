{
 "cells": [
  {
   "cell_type": "code",
   "execution_count": 29,
   "id": "38b1df2a",
   "metadata": {},
   "outputs": [],
   "source": [
    "import pandas as pd"
   ]
  },
  {
   "cell_type": "code",
   "execution_count": null,
   "id": "fe829b75",
   "metadata": {},
   "outputs": [
    {
     "name": "stdout",
     "output_type": "stream",
     "text": [
      "Всего сообщений: 3000\n",
      "Столбцы: ['email', 'label']\n"
     ]
    },
    {
     "name": "stderr",
     "output_type": "stream",
     "text": [
      "<>:2: SyntaxWarning: invalid escape sequence '\\D'\n",
      "<>:2: SyntaxWarning: invalid escape sequence '\\D'\n",
      "C:\\Users\\munch\\AppData\\Local\\Temp\\ipykernel_12428\\1770178333.py:2: SyntaxWarning: invalid escape sequence '\\D'\n",
      "  PATH= \"D:\\Downloads\\spam_or_not_spam.csv\"\n"
     ]
    },
    {
     "data": {
      "text/html": [
       "<div>\n",
       "<style scoped>\n",
       "    .dataframe tbody tr th:only-of-type {\n",
       "        vertical-align: middle;\n",
       "    }\n",
       "\n",
       "    .dataframe tbody tr th {\n",
       "        vertical-align: top;\n",
       "    }\n",
       "\n",
       "    .dataframe thead th {\n",
       "        text-align: right;\n",
       "    }\n",
       "</style>\n",
       "<table border=\"1\" class=\"dataframe\">\n",
       "  <thead>\n",
       "    <tr style=\"text-align: right;\">\n",
       "      <th></th>\n",
       "      <th>email</th>\n",
       "      <th>label</th>\n",
       "    </tr>\n",
       "  </thead>\n",
       "  <tbody>\n",
       "    <tr>\n",
       "      <th>0</th>\n",
       "      <td>date wed NUMBER aug NUMBER NUMBER NUMBER NUMB...</td>\n",
       "      <td>0</td>\n",
       "    </tr>\n",
       "    <tr>\n",
       "      <th>1</th>\n",
       "      <td>martin a posted tassos papadopoulos the greek ...</td>\n",
       "      <td>0</td>\n",
       "    </tr>\n",
       "    <tr>\n",
       "      <th>2</th>\n",
       "      <td>man threatens explosion in moscow thursday aug...</td>\n",
       "      <td>0</td>\n",
       "    </tr>\n",
       "    <tr>\n",
       "      <th>3</th>\n",
       "      <td>klez the virus that won t die already the most...</td>\n",
       "      <td>0</td>\n",
       "    </tr>\n",
       "    <tr>\n",
       "      <th>4</th>\n",
       "      <td>in adding cream to spaghetti carbonara which ...</td>\n",
       "      <td>0</td>\n",
       "    </tr>\n",
       "  </tbody>\n",
       "</table>\n",
       "</div>"
      ],
      "text/plain": [
       "                                               email  label\n",
       "0   date wed NUMBER aug NUMBER NUMBER NUMBER NUMB...      0\n",
       "1  martin a posted tassos papadopoulos the greek ...      0\n",
       "2  man threatens explosion in moscow thursday aug...      0\n",
       "3  klez the virus that won t die already the most...      0\n",
       "4   in adding cream to spaghetti carbonara which ...      0"
      ]
     },
     "execution_count": 30,
     "metadata": {},
     "output_type": "execute_result"
    }
   ],
   "source": [
    "# откройте данные: ваш код здесь\n",
    "PATH= \"D:\\Downloads\\spam_or_not_spam.csv\" #либо указание ссылки на gdrive, мне удобнее было загрузить датасет, прошу прощения:)\n",
    "df = pd.read_csv(PATH)\n",
    "n_total = len(df)\n",
    "\n",
    "print(f\"Всего сообщений: {n_total}\")\n",
    "print(\"Столбцы:\", list(df.columns))\n",
    "df.head()"
   ]
  },
  {
   "cell_type": "code",
   "execution_count": 31,
   "id": "53603b0e",
   "metadata": {},
   "outputs": [
    {
     "name": "stdout",
     "output_type": "stream",
     "text": [
      "Не спам (label=0): 2500\n",
      "Спам (label=1): 500\n"
     ]
    },
    {
     "data": {
      "text/plain": [
       "label\n",
       "0    2500\n",
       "1     500\n",
       "Name: count, dtype: int64"
      ]
     },
     "execution_count": 31,
     "metadata": {},
     "output_type": "execute_result"
    }
   ],
   "source": [
    "# рассчитайте частоты для классов : ваш код здесь\n",
    "class_counts = df[\"label\"].value_counts().sort_index()\n",
    "\n",
    "n_not_spam = int(class_counts.get(0, 0))\n",
    "n_spam = int(class_counts.get(1, 0))\n",
    "\n",
    "print(f\"Не спам (label=0): {n_not_spam}\")\n",
    "print(f\"Спам (label=1): {n_spam}\")\n",
    "class_counts"
   ]
  },
  {
   "cell_type": "code",
   "execution_count": 32,
   "id": "a0fa7d9a",
   "metadata": {},
   "outputs": [
    {
     "data": {
      "text/html": [
       "<style type=\"text/css\">\n",
       "#T_6025d_row0_col0 {\n",
       "  width: 10em;\n",
       "  background: linear-gradient(90deg, #d65f5f 100.0%, transparent 100.0%);\n",
       "}\n",
       "#T_6025d_row1_col0 {\n",
       "  width: 10em;\n",
       "}\n",
       "</style>\n",
       "<table id=\"T_6025d\">\n",
       "  <caption>Распределение классов до предобработки</caption>\n",
       "  <thead>\n",
       "    <tr>\n",
       "      <th class=\"blank level0\" >&nbsp;</th>\n",
       "      <th id=\"T_6025d_level0_col0\" class=\"col_heading level0 col0\" >count</th>\n",
       "    </tr>\n",
       "    <tr>\n",
       "      <th class=\"index_name level0\" >label</th>\n",
       "      <th class=\"blank col0\" >&nbsp;</th>\n",
       "    </tr>\n",
       "  </thead>\n",
       "  <tbody>\n",
       "    <tr>\n",
       "      <th id=\"T_6025d_level0_row0\" class=\"row_heading level0 row0\" >Not spam (0)</th>\n",
       "      <td id=\"T_6025d_row0_col0\" class=\"data row0 col0\" >2500</td>\n",
       "    </tr>\n",
       "    <tr>\n",
       "      <th id=\"T_6025d_level0_row1\" class=\"row_heading level0 row1\" >Spam (1)</th>\n",
       "      <td id=\"T_6025d_row1_col0\" class=\"data row1 col0\" >500</td>\n",
       "    </tr>\n",
       "  </tbody>\n",
       "</table>\n"
      ],
      "text/plain": [
       "<pandas.io.formats.style.Styler at 0x23445966840>"
      ]
     },
     "execution_count": 32,
     "metadata": {},
     "output_type": "execute_result"
    }
   ],
   "source": [
    "vc = class_counts.rename({0: \"Not spam (0)\", 1: \"Spam (1)\"})\n",
    "styled = (\n",
    "    pd.DataFrame({\"count\": vc})\n",
    "      .style.bar(subset=[\"count\"], align=\"left\")\n",
    "      .format({\"count\": \"{:d}\"})\n",
    "      .set_caption(\"Распределение классов до предобработки\")\n",
    ")\n",
    "styled  \n"
   ]
  },
  {
   "cell_type": "code",
   "execution_count": 33,
   "id": "a19909cb",
   "metadata": {},
   "outputs": [
    {
     "name": "stdout",
     "output_type": "stream",
     "text": [
      "Строк после очистки: 2997\n"
     ]
    }
   ],
   "source": [
    "import numpy as np\n",
    "\n",
    "data = df.copy()\n",
    "\n",
    "data[\"email\"] = data[\"email\"].replace(r\"^\\s*$\", np.nan, regex=True)\n",
    "\n",
    "data = data.dropna().reset_index(drop=True)\n",
    "\n",
    "print(f\"Строк после очистки: {len(data)}\")"
   ]
  },
  {
   "cell_type": "code",
   "execution_count": 34,
   "id": "13d2f2fa",
   "metadata": {},
   "outputs": [],
   "source": [
    "from sklearn.feature_extraction.text import CountVectorizer"
   ]
  },
  {
   "cell_type": "code",
   "execution_count": 35,
   "id": "21cf30ff",
   "metadata": {},
   "outputs": [],
   "source": [
    "vectorizer = CountVectorizer()\n",
    "x = vectorizer.fit_transform(data[\"email\"])"
   ]
  },
  {
   "cell_type": "code",
   "execution_count": null,
   "id": "c3428896",
   "metadata": {},
   "outputs": [
    {
     "name": "stdout",
     "output_type": "stream",
     "text": [
      "Число признаков после предобработки: 34116\n"
     ]
    }
   ],
   "source": [
    "n_features = x.shape[1]\n",
    "print(f\"Число признаков после предобработки: {n_features}\")"
   ]
  },
  {
   "cell_type": "code",
   "execution_count": 37,
   "id": "112c6d23",
   "metadata": {},
   "outputs": [],
   "source": [
    "from sklearn.model_selection import train_test_split"
   ]
  },
  {
   "cell_type": "code",
   "execution_count": null,
   "id": "5dead1f8",
   "metadata": {},
   "outputs": [
    {
     "name": "stdout",
     "output_type": "stream",
     "text": [
      "Среднее значение целевой переменной (в train): 0.166\n"
     ]
    }
   ],
   "source": [
    "X = x\n",
    "y = data[\"label\"].to_numpy()\n",
    "\n",
    "X_train, X_test, y_train, y_test = train_test_split(\n",
    "    X, y,\n",
    "    train_size=0.75, test_size=0.25,\n",
    "    stratify=y, random_state=42\n",
    ")\n",
    "\n",
    "mean_target = y_train.mean()\n",
    "print(f\"Среднее значение целевой переменной (в train): {mean_target:.3f}\")"
   ]
  },
  {
   "cell_type": "code",
   "execution_count": null,
   "id": "8766f75e",
   "metadata": {},
   "outputs": [
    {
     "name": "stdout",
     "output_type": "stream",
     "text": [
      "Accuracy: 0.988\n",
      "Precision: 1.000\n"
     ]
    }
   ],
   "source": [
    "import numpy as np\n",
    "import pandas as pd\n",
    "from sklearn.feature_extraction.text import CountVectorizer\n",
    "from sklearn.model_selection import train_test_split\n",
    "from sklearn.naive_bayes import ComplementNB\n",
    "from sklearn.metrics import accuracy_score\n",
    "#не люблю использовать повторные импорты и в принципе вносить их в блоки кода, работая в формате ipynb,\n",
    "#но для наглядности решил вывести непосредственно здесь\n",
    "\n",
    "X_train, X_test, y_train, y_test\n",
    "\n",
    "clf = ComplementNB(alpha=0.01)\n",
    "clf.fit(X_train, y_train)\n",
    "y_pred = clf.predict(X_test)\n",
    "\n",
    "acc = accuracy_score(y_test, y_pred)\n",
    "\n",
    "tp = int(((y_pred == 1) & (y_test == 1)).sum())\n",
    "pp = int((y_pred == 1).sum())\n",
    "precision = tp / pp if pp else 0.0\n",
    "\n",
    "print(f\"Accuracy: {acc:.3f}\")\n",
    "print(f\"Precision: {precision:.3f}\")\n"
   ]
  }
 ],
 "metadata": {
  "kernelspec": {
   "display_name": "Python 3",
   "language": "python",
   "name": "python3"
  },
  "language_info": {
   "codemirror_mode": {
    "name": "ipython",
    "version": 3
   },
   "file_extension": ".py",
   "mimetype": "text/x-python",
   "name": "python",
   "nbconvert_exporter": "python",
   "pygments_lexer": "ipython3",
   "version": "3.12.4"
  }
 },
 "nbformat": 4,
 "nbformat_minor": 5
}

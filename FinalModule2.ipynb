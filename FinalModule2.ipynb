{
 "cells": [
  {
   "cell_type": "code",
   "execution_count": 8,
   "id": "26752c5e",
   "metadata": {},
   "outputs": [],
   "source": [
    "import numpy as np\n",
    "from math import exp\n",
    "from scipy.stats import poisson, expon"
   ]
  },
  {
   "cell_type": "code",
   "execution_count": 9,
   "id": "e5c8ab2b",
   "metadata": {},
   "outputs": [],
   "source": [
    "def r3(x): return f\"{x:.3f}\"\n",
    "def r2(x): return f\"{x:.2f}\""
   ]
  },
  {
   "cell_type": "markdown",
   "id": "1ea3ca4c",
   "metadata": {},
   "source": [
    "# Задача 1"
   ]
  },
  {
   "cell_type": "code",
   "execution_count": 10,
   "id": "1f09bb62",
   "metadata": {},
   "outputs": [
    {
     "name": "stdout",
     "output_type": "stream",
     "text": [
      "Task 1:  0.984\n"
     ]
    }
   ],
   "source": [
    "prev, sens, spec = 0.15, 0.92, 0.85\n",
    "p_notd = 1 - prev\n",
    "p_neg_given_d = 1 - sens\n",
    "p_neg_given_notd = spec\n",
    "p_notd_given_neg = (p_neg_given_notd * p_notd) / (p_neg_given_notd * p_notd + p_neg_given_d * prev)\n",
    "print(\"Task 1: \", r3(p_notd_given_neg))  # 0.984"
   ]
  },
  {
   "cell_type": "markdown",
   "id": "28aa0f40",
   "metadata": {},
   "source": [
    "# Задача 2"
   ]
  },
  {
   "cell_type": "code",
   "execution_count": 11,
   "id": "7040bc58",
   "metadata": {},
   "outputs": [
    {
     "name": "stdout",
     "output_type": "stream",
     "text": [
      "Task 2.2:  0.24\n",
      "Task 2.3:  0.42\n"
     ]
    }
   ],
   "source": [
    "p_early, p_dev_given_early = 0.4, 0.6\n",
    "p_late,  p_dev_given_late  = 0.6, 0.3\n",
    "ans_2_2 = p_early * p_dev_given_early\n",
    "ans_2_3 = p_early * p_dev_given_early + p_late * p_dev_given_late\n",
    "print(\"Task 2.2: \", f\"{ans_2_2:.2f}\")\n",
    "print(\"Task 2.3: \", f\"{ans_2_3:.2f}\")"
   ]
  },
  {
   "cell_type": "markdown",
   "id": "5e0de129",
   "metadata": {},
   "source": [
    "# Задача 3"
   ]
  },
  {
   "cell_type": "code",
   "execution_count": 12,
   "id": "2ee17092",
   "metadata": {},
   "outputs": [
    {
     "name": "stdout",
     "output_type": "stream",
     "text": [
      "Task 3.1: P(E|R) = 0.26\n",
      "Task 3.2: P(S|R) = 0.48\n",
      "Task 3.3: P(S|not R) = 0.85\n"
     ]
    }
   ],
   "source": [
    "P = np.array([0.03, 0.15, 0.82])                      # [E, O, S]\n",
    "PR_given = np.array([0.60, 0.12, 0.04])               # P(R | E/O/S)\n",
    "\n",
    "P_R = float(np.dot(P, PR_given))\n",
    "P_E_given_R = P[0]*PR_given[0] / P_R\n",
    "P_S_given_R = P[2]*PR_given[2] / P_R\n",
    "P_notR = 1 - P_R\n",
    "P_S_given_notR = P[2]*(1-PR_given[2]) / P_notR\n",
    "\n",
    "print(\"Task 3.1: P(E|R) =\", r2(P_E_given_R))\n",
    "print(\"Task 3.2: P(S|R) =\", r2(P_S_given_R))\n",
    "print(\"Task 3.3: P(S|not R) =\", r2(P_S_given_notR))"
   ]
  },
  {
   "cell_type": "markdown",
   "id": "1b0983f3",
   "metadata": {},
   "source": [
    "# Задача 4"
   ]
  },
  {
   "cell_type": "code",
   "execution_count": 13,
   "id": "9752a932",
   "metadata": {},
   "outputs": [
    {
     "name": "stdout",
     "output_type": "stream",
     "text": [
      "Task 4:  0.065\n"
     ]
    }
   ],
   "source": [
    "lam, k = 5, 8\n",
    "p_k = poisson.pmf(k, mu=lam)\n",
    "\n",
    "print(\"Task 4: \", r3(p_k))"
   ]
  },
  {
   "cell_type": "markdown",
   "id": "852f035f",
   "metadata": {},
   "source": [
    "# Задача 5"
   ]
  },
  {
   "cell_type": "code",
   "execution_count": 14,
   "id": "e4a0f542",
   "metadata": {},
   "outputs": [
    {
     "name": "stdout",
     "output_type": "stream",
     "text": [
      "Task 5.1: P(T>3) = 0.55\n",
      "Task 5.2: P(4<T<6) = 0.15\n"
     ]
    }
   ],
   "source": [
    "scale = 5.0\n",
    "\n",
    "# 5.1: P(T>3)\n",
    "\n",
    "p_gt3 = expon.sf(3, scale=scale)\n",
    "\n",
    "print(\"Task 5.1: P(T>3) =\", r2(p_gt3))\n",
    "\n",
    "# 5.2: P(4<T<6)\n",
    "\n",
    "p_4_6 = expon.cdf(6, scale=scale) - expon.cdf(4, scale=scale)\n",
    "\n",
    "print(\"Task 5.2: P(4<T<6) =\", r2(p_4_6))"
   ]
  }
 ],
 "metadata": {
  "kernelspec": {
   "display_name": "Python 3",
   "language": "python",
   "name": "python3"
  },
  "language_info": {
   "codemirror_mode": {
    "name": "ipython",
    "version": 3
   },
   "file_extension": ".py",
   "mimetype": "text/x-python",
   "name": "python",
   "nbconvert_exporter": "python",
   "pygments_lexer": "ipython3",
   "version": "3.12.4"
  }
 },
 "nbformat": 4,
 "nbformat_minor": 5
}
